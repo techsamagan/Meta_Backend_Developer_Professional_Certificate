{
 "cells": [
  {
   "cell_type": "code",
   "execution_count": 1,
   "id": "5f4d6b3d",
   "metadata": {},
   "outputs": [
    {
     "ename": "TypeError",
     "evalue": "isinstance() arg 2 must be a type or tuple of types",
     "output_type": "error",
     "traceback": [
      "\u001b[1;31m---------------------------------------------------------------------------\u001b[0m",
      "\u001b[1;31mTypeError\u001b[0m                                 Traceback (most recent call last)",
      "Input \u001b[1;32mIn [1]\u001b[0m, in \u001b[0;36m<cell line: 1>\u001b[1;34m()\u001b[0m\n\u001b[1;32m----> 1\u001b[0m a \u001b[38;5;241m=\u001b[39m \u001b[38;5;28;43misinstance\u001b[39;49m\u001b[43m(\u001b[49m\u001b[38;5;28;43mstr\u001b[39;49m\u001b[43m,\u001b[49m\u001b[43m \u001b[49m\u001b[38;5;124;43m\"\u001b[39;49m\u001b[38;5;124;43maa\u001b[39;49m\u001b[38;5;124;43m\"\u001b[39;49m\u001b[43m)\u001b[49m\n\u001b[0;32m      3\u001b[0m \u001b[38;5;28mprint\u001b[39m(a)\n",
      "\u001b[1;31mTypeError\u001b[0m: isinstance() arg 2 must be a type or tuple of types"
     ]
    }
   ],
   "source": [
    "a = isinstance(str, \"aa\")\n",
    "\n",
    "print(a)  "
   ]
  },
  {
   "cell_type": "code",
   "execution_count": 2,
   "id": "ac989721",
   "metadata": {},
   "outputs": [],
   "source": [
    "new_list = [1,2,3,4]"
   ]
  },
  {
   "cell_type": "code",
   "execution_count": 3,
   "id": "1c9194b7",
   "metadata": {},
   "outputs": [
    {
     "ename": "IndexError",
     "evalue": "list assignment index out of range",
     "output_type": "error",
     "traceback": [
      "\u001b[1;31m---------------------------------------------------------------------------\u001b[0m",
      "\u001b[1;31mIndexError\u001b[0m                                Traceback (most recent call last)",
      "Input \u001b[1;32mIn [3]\u001b[0m, in \u001b[0;36m<cell line: 1>\u001b[1;34m()\u001b[0m\n\u001b[1;32m----> 1\u001b[0m new_list[\u001b[38;5;241m4\u001b[39m] \u001b[38;5;241m=\u001b[39m \u001b[38;5;241m10\u001b[39m\n",
      "\u001b[1;31mIndexError\u001b[0m: list assignment index out of range"
     ]
    }
   ],
   "source": [
    "new_list[4] = 10"
   ]
  },
  {
   "cell_type": "code",
   "execution_count": 4,
   "id": "022802c3",
   "metadata": {},
   "outputs": [],
   "source": [
    "new_list.extend(new_list)"
   ]
  },
  {
   "cell_type": "code",
   "execution_count": 5,
   "id": "0014b554",
   "metadata": {},
   "outputs": [],
   "source": [
    "new_list.insert(0, 0)"
   ]
  },
  {
   "cell_type": "code",
   "execution_count": 6,
   "id": "2b56d4b3",
   "metadata": {},
   "outputs": [],
   "source": [
    "new_list.append(5)"
   ]
  },
  {
   "cell_type": "code",
   "execution_count": 7,
   "id": "3244bf3e",
   "metadata": {},
   "outputs": [
    {
     "name": "stdout",
     "output_type": "stream",
     "text": [
      "['First line\\n', 'Second line\\n', 'And another !']\n"
     ]
    }
   ],
   "source": [
    "with open('names.txt', 'r') as file:\n",
    "    lines = file.readlines()\n",
    "print(lines)"
   ]
  },
  {
   "cell_type": "code",
   "execution_count": 8,
   "id": "ec2b3c5a",
   "metadata": {},
   "outputs": [
    {
     "name": "stdout",
     "output_type": "stream",
     "text": [
      "7\n"
     ]
    }
   ],
   "source": [
    "value = 7\n",
    "class A:\n",
    "    value = 5\n",
    "\n",
    "a = A()\n",
    "a.value = 3\n",
    "print(value)"
   ]
  },
  {
   "cell_type": "code",
   "execution_count": 9,
   "id": "fa3e79d3",
   "metadata": {},
   "outputs": [
    {
     "ename": "NameError",
     "evalue": "name 'B' is not defined",
     "output_type": "error",
     "traceback": [
      "\u001b[1;31m---------------------------------------------------------------------------\u001b[0m",
      "\u001b[1;31mNameError\u001b[0m                                 Traceback (most recent call last)",
      "Input \u001b[1;32mIn [9]\u001b[0m, in \u001b[0;36m<cell line: 2>\u001b[1;34m()\u001b[0m\n\u001b[0;32m      1\u001b[0m bravo \u001b[38;5;241m=\u001b[39m \u001b[38;5;241m3\u001b[39m\n\u001b[1;32m----> 2\u001b[0m b \u001b[38;5;241m=\u001b[39m \u001b[43mB\u001b[49m()\n\u001b[0;32m      3\u001b[0m \u001b[38;5;28;01mclass\u001b[39;00m \u001b[38;5;21;01mB\u001b[39;00m:\n\u001b[0;32m      4\u001b[0m     bravo \u001b[38;5;241m=\u001b[39m \u001b[38;5;241m5\u001b[39m\n",
      "\u001b[1;31mNameError\u001b[0m: name 'B' is not defined"
     ]
    }
   ],
   "source": [
    "bravo = 3\n",
    "b = B()\n",
    "class B:\n",
    "    bravo = 5\n",
    "    print(\"Inside class B\")\n",
    "c = B()\n",
    "print(b.bravo)"
   ]
  },
  {
   "cell_type": "code",
   "execution_count": 10,
   "id": "92da71b8",
   "metadata": {},
   "outputs": [
    {
     "ename": "NameError",
     "evalue": "name 'math' is not defined",
     "output_type": "error",
     "traceback": [
      "\u001b[1;31m---------------------------------------------------------------------------\u001b[0m",
      "\u001b[1;31mNameError\u001b[0m                                 Traceback (most recent call last)",
      "Input \u001b[1;32mIn [10]\u001b[0m, in \u001b[0;36m<cell line: 2>\u001b[1;34m()\u001b[0m\n\u001b[0;32m      1\u001b[0m \u001b[38;5;28;01mfrom\u001b[39;00m \u001b[38;5;21;01mmath\u001b[39;00m \u001b[38;5;28;01mimport\u001b[39;00m pi\n\u001b[1;32m----> 2\u001b[0m \u001b[38;5;28mprint\u001b[39m(\u001b[43mmath\u001b[49m\u001b[38;5;241m.\u001b[39mpi)\n",
      "\u001b[1;31mNameError\u001b[0m: name 'math' is not defined"
     ]
    }
   ],
   "source": [
    "from math import pi\n",
    "print(math.pi)"
   ]
  },
  {
   "cell_type": "code",
   "execution_count": 11,
   "id": "eca9e15d",
   "metadata": {},
   "outputs": [
    {
     "name": "stdout",
     "output_type": "stream",
     "text": [
      "['Anna', 'Natasha', 'Xi', 'Mike']\n"
     ]
    }
   ],
   "source": [
    "names = [\"Anna\", \"Natasha\", \"Mike\"]\n",
    "names.insert(2, \"Xi\")\n",
    "print(names)"
   ]
  },
  {
   "cell_type": "code",
   "execution_count": 12,
   "id": "3f57195c",
   "metadata": {},
   "outputs": [
    {
     "ename": "ValueError",
     "evalue": "invalid literal for int() with base 10: '1.0'",
     "output_type": "error",
     "traceback": [
      "\u001b[1;31m---------------------------------------------------------------------------\u001b[0m",
      "\u001b[1;31mValueError\u001b[0m                                Traceback (most recent call last)",
      "Input \u001b[1;32mIn [12]\u001b[0m, in \u001b[0;36m<cell line: 1>\u001b[1;34m()\u001b[0m\n\u001b[0;32m      1\u001b[0m \u001b[38;5;28;01mfor\u001b[39;00m x \u001b[38;5;129;01min\u001b[39;00m \u001b[38;5;28mrange\u001b[39m(\u001b[38;5;241m1\u001b[39m, \u001b[38;5;241m4\u001b[39m):\n\u001b[1;32m----> 2\u001b[0m     \u001b[38;5;28mprint\u001b[39m(\u001b[38;5;28;43mint\u001b[39;49m\u001b[43m(\u001b[49m\u001b[43m(\u001b[49m\u001b[38;5;28;43mstr\u001b[39;49m\u001b[43m(\u001b[49m\u001b[43m(\u001b[49m\u001b[38;5;28;43mfloat\u001b[39;49m\u001b[43m(\u001b[49m\u001b[43mx\u001b[49m\u001b[43m)\u001b[49m\u001b[43m)\u001b[49m\u001b[43m)\u001b[49m\u001b[43m)\u001b[49m\u001b[43m)\u001b[49m)\n",
      "\u001b[1;31mValueError\u001b[0m: invalid literal for int() with base 10: '1.0'"
     ]
    }
   ],
   "source": [
    "for x in range(1, 4):\n",
    "    print(int((str((float(x))))))"
   ]
  },
  {
   "cell_type": "code",
   "execution_count": 13,
   "id": "a0d84d10",
   "metadata": {},
   "outputs": [
    {
     "name": "stdout",
     "output_type": "stream",
     "text": [
      "1\n",
      "2\n",
      "3\n"
     ]
    }
   ],
   "source": [
    "sample_dict = {1: 'Coffee', 2: 'Tea', 3: 'Juice'}\n",
    "for x in sample_dict:\n",
    "    print(x)"
   ]
  },
  {
   "cell_type": "code",
   "execution_count": 14,
   "id": "f3fcabd6",
   "metadata": {},
   "outputs": [
    {
     "name": "stdout",
     "output_type": "stream",
     "text": [
      "11\n",
      "8\n",
      "5\n",
      "2\n"
     ]
    }
   ],
   "source": [
    "def recursion(num):\n",
    "    print(num)\n",
    "    next = num - 3\n",
    "    if next > 1:\n",
    "        recursion(next)\n",
    "\n",
    "recursion(11)"
   ]
  },
  {
   "cell_type": "code",
   "execution_count": 15,
   "id": "4f1c65c6",
   "metadata": {},
   "outputs": [
    {
     "name": "stdout",
     "output_type": "stream",
     "text": [
      "[1, 7, 13, 19]\n",
      "[1, 7, 13, 19]\n",
      "[1, 7, 13, 19]\n",
      "[1, 7, 13, 19]\n"
     ]
    }
   ],
   "source": [
    "def bigo(numbers):\n",
    "    for i in numbers:\n",
    "        print(numbers)\n",
    "\n",
    "bigo([1, 7, 13, 19])"
   ]
  },
  {
   "cell_type": "code",
   "execution_count": 16,
   "id": "027a8c9b",
   "metadata": {},
   "outputs": [
    {
     "ename": "IndentationError",
     "evalue": "expected an indented block (136113787.py, line 3)",
     "output_type": "error",
     "traceback": [
      "\u001b[1;36m  Input \u001b[1;32mIn [16]\u001b[1;36m\u001b[0m\n\u001b[1;33m    if l == 'o':\u001b[0m\n\u001b[1;37m    ^\u001b[0m\n\u001b[1;31mIndentationError\u001b[0m\u001b[1;31m:\u001b[0m expected an indented block\n"
     ]
    }
   ],
   "source": [
    "str = 'Pomodoro'\n",
    "for l in str:\n",
    "if l == 'o':\n",
    "    str = str.split()\n",
    "    print(str, end=\", \")"
   ]
  },
  {
   "cell_type": "code",
   "execution_count": 17,
   "id": "36b08fb9",
   "metadata": {},
   "outputs": [
    {
     "name": "stdout",
     "output_type": "stream",
     "text": [
      "Color: yellow\n"
     ]
    }
   ],
   "source": [
    "def d():\n",
    "    color = \"green\"\n",
    "    def e():\n",
    "        nonlocal color\n",
    "        color = \"yellow\"\n",
    "    e()\n",
    "    print(\"Color: \" + color)\n",
    "    color = \"red\"\n",
    "color = \"blue\"\n",
    "d()"
   ]
  },
  {
   "cell_type": "code",
   "execution_count": 18,
   "id": "77b1116f",
   "metadata": {},
   "outputs": [
    {
     "name": "stdout",
     "output_type": "stream",
     "text": [
      "9\n"
     ]
    }
   ],
   "source": [
    "num = 9\n",
    "class Car:\n",
    "    num = 5\n",
    "    bathrooms = 2\n",
    "\n",
    "def cost_evaluation(num):\n",
    "    num = 10\n",
    "    return num\n",
    "\n",
    "class Bike():\n",
    "    num = 11\n",
    "\n",
    "cost_evaluation(num)\n",
    "car = Car()\n",
    "bike = Bike()\n",
    "car.num = 7\n",
    "Car.num = 2\n",
    "print(num)"
   ]
  },
  {
   "cell_type": "code",
   "execution_count": 19,
   "id": "306a8f7c",
   "metadata": {},
   "outputs": [
    {
     "name": "stdout",
     "output_type": "stream",
     "text": [
      "Function inside A\n"
     ]
    }
   ],
   "source": [
    "class A:\n",
    "   def a(self):\n",
    "       return \"Function inside A\"\n",
    "\n",
    "class B:\n",
    "   def a(self):\n",
    "       return \"Function inside B\"\n",
    "\n",
    "class C:\n",
    "   pass\n",
    "\n",
    "class D(C, A, B):\n",
    "   pass\n",
    "\n",
    "d = D()\n",
    "print(d.a())"
   ]
  },
  {
   "cell_type": "code",
   "execution_count": null,
   "id": "685275b4",
   "metadata": {},
   "outputs": [],
   "source": []
  }
 ],
 "metadata": {
  "kernelspec": {
   "display_name": "Python 3 (ipykernel)",
   "language": "python",
   "name": "python3"
  },
  "language_info": {
   "codemirror_mode": {
    "name": "ipython",
    "version": 3
   },
   "file_extension": ".py",
   "mimetype": "text/x-python",
   "name": "python",
   "nbconvert_exporter": "python",
   "pygments_lexer": "ipython3",
   "version": "3.9.12"
  }
 },
 "nbformat": 4,
 "nbformat_minor": 5
}
